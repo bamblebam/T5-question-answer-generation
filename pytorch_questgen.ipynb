{
 "metadata": {
  "language_info": {
   "codemirror_mode": {
    "name": "ipython",
    "version": 3
   },
   "file_extension": ".py",
   "mimetype": "text/x-python",
   "name": "python",
   "nbconvert_exporter": "python",
   "pygments_lexer": "ipython3",
   "version": "3.8.8"
  },
  "orig_nbformat": 2,
  "kernelspec": {
   "name": "python388jvsc74a57bd08f7a9caefe3fbe01c4aa0205e6cc1c36763ed3d41b234746df90d0099aaa4109",
   "display_name": "Python 3.8.8 64-bit ('tf': conda)"
  }
 },
 "nbformat": 4,
 "nbformat_minor": 2,
 "cells": [
  {
   "cell_type": "code",
   "execution_count": 1,
   "metadata": {},
   "outputs": [],
   "source": [
    "import time\n",
    "import logging\n",
    "import os\n",
    "import glob\n",
    "import json\n",
    "import re\n",
    "import random\n",
    "import textwrap\n",
    "from termcolor import colored\n",
    "from pathlib import Path\n",
    "\n",
    "import pandas as pd\n",
    "import numpy as np\n",
    "import matplotlib as mlt\n",
    "import matplotlib.pyplot as plt\n",
    "import seaborn as sns\n",
    "\n",
    "from sklearn.model_selection import train_test_split\n",
    "\n",
    "import tensorflow as tf\n",
    "\n",
    "import torch\n",
    "from torch.utils.data import Dataset,DataLoader\n",
    "import pytorch_lightning as pl\n",
    "\n",
    "from transformers import T5Tokenizer,T5ForConditionalGeneration,AdamW,get_linear_schedule_with_warmup"
   ]
  },
  {
   "cell_type": "code",
   "execution_count": 2,
   "metadata": {},
   "outputs": [
    {
     "output_type": "stream",
     "name": "stderr",
     "text": [
      "Global seed set to 42\n"
     ]
    },
    {
     "output_type": "execute_result",
     "data": {
      "text/plain": [
       "42"
      ]
     },
     "metadata": {},
     "execution_count": 2
    }
   ],
   "source": [
    "pl.seed_everything(42)"
   ]
  },
  {
   "cell_type": "code",
   "execution_count": 3,
   "metadata": {},
   "outputs": [],
   "source": [
    "def extract_data(path):\n",
    "    with path.open() as f:\n",
    "        data=json.load(f)\n",
    "    \n",
    "    questions=data['data'][0]['paragraphs']\n",
    "    rows=list()\n",
    "\n",
    "    for question in questions:\n",
    "        context=question['context']\n",
    "        for qa in question['qas']:\n",
    "            question_=qa['question']\n",
    "            answers=qa['answers']\n",
    "            for answer in answers:\n",
    "                answer_text=answer['text']\n",
    "                answer_start=answer['answer_start']\n",
    "                answer_end=answer_start+len(answer_text)\n",
    "\n",
    "                rows.append({\n",
    "                    'question':question_,\n",
    "                    'context':context,\n",
    "                    'answer_text':answer_text,\n",
    "                    'answer_start':answer_start,\n",
    "                    'answer_end':answer_end\n",
    "                })\n",
    "    return pd.DataFrame(rows)"
   ]
  },
  {
   "cell_type": "code",
   "execution_count": 4,
   "metadata": {},
   "outputs": [
    {
     "output_type": "execute_result",
     "data": {
      "text/plain": [
       "                                            question  \\\n",
       "0  What is the inheritance pattern of Li–Fraumeni...   \n",
       "1  What is the inheritance pattern of Li–Fraumeni...   \n",
       "2    Which type of lung cancer is afatinib used for?   \n",
       "3  Which hormone abnormalities are characteristic...   \n",
       "4  Which hormone abnormalities are characteristic...   \n",
       "\n",
       "                                             context         answer_text  \\\n",
       "0  Balanced t(11;15)(q23;q15) in a TP53+/+ breast...  autosomal dominant   \n",
       "1  Genetic modeling of Li-Fraumeni syndrome in ze...  autosomal dominant   \n",
       "2  Clinical perspective of afatinib in non-small ...   EGFR-mutant NSCLC   \n",
       "3  DOCA sensitive pendrin expression in kidney, h...             thyroid   \n",
       "4  Clinical and molecular characteristics of Pend...             thyroid   \n",
       "\n",
       "   answer_start  answer_end  \n",
       "0           213         231  \n",
       "1           105         123  \n",
       "2          1203        1220  \n",
       "3           419         426  \n",
       "4           705         712  "
      ],
      "text/html": "<div>\n<style scoped>\n    .dataframe tbody tr th:only-of-type {\n        vertical-align: middle;\n    }\n\n    .dataframe tbody tr th {\n        vertical-align: top;\n    }\n\n    .dataframe thead th {\n        text-align: right;\n    }\n</style>\n<table border=\"1\" class=\"dataframe\">\n  <thead>\n    <tr style=\"text-align: right;\">\n      <th></th>\n      <th>question</th>\n      <th>context</th>\n      <th>answer_text</th>\n      <th>answer_start</th>\n      <th>answer_end</th>\n    </tr>\n  </thead>\n  <tbody>\n    <tr>\n      <th>0</th>\n      <td>What is the inheritance pattern of Li–Fraumeni...</td>\n      <td>Balanced t(11;15)(q23;q15) in a TP53+/+ breast...</td>\n      <td>autosomal dominant</td>\n      <td>213</td>\n      <td>231</td>\n    </tr>\n    <tr>\n      <th>1</th>\n      <td>What is the inheritance pattern of Li–Fraumeni...</td>\n      <td>Genetic modeling of Li-Fraumeni syndrome in ze...</td>\n      <td>autosomal dominant</td>\n      <td>105</td>\n      <td>123</td>\n    </tr>\n    <tr>\n      <th>2</th>\n      <td>Which type of lung cancer is afatinib used for?</td>\n      <td>Clinical perspective of afatinib in non-small ...</td>\n      <td>EGFR-mutant NSCLC</td>\n      <td>1203</td>\n      <td>1220</td>\n    </tr>\n    <tr>\n      <th>3</th>\n      <td>Which hormone abnormalities are characteristic...</td>\n      <td>DOCA sensitive pendrin expression in kidney, h...</td>\n      <td>thyroid</td>\n      <td>419</td>\n      <td>426</td>\n    </tr>\n    <tr>\n      <th>4</th>\n      <td>Which hormone abnormalities are characteristic...</td>\n      <td>Clinical and molecular characteristics of Pend...</td>\n      <td>thyroid</td>\n      <td>705</td>\n      <td>712</td>\n    </tr>\n  </tbody>\n</table>\n</div>"
     },
     "metadata": {},
     "execution_count": 4
    }
   ],
   "source": [
    "extract_data(Path('data/BioASQ/BioASQ-train-factoid-4b.json')).head()"
   ]
  },
  {
   "cell_type": "code",
   "execution_count": 5,
   "metadata": {},
   "outputs": [
    {
     "output_type": "execute_result",
     "data": {
      "text/plain": [
       "                                            question  \\\n",
       "0  What is the inheritance pattern of Li–Fraumeni...   \n",
       "1  What is the inheritance pattern of Li–Fraumeni...   \n",
       "2    Which type of lung cancer is afatinib used for?   \n",
       "3  Which hormone abnormalities are characteristic...   \n",
       "4  Which hormone abnormalities are characteristic...   \n",
       "\n",
       "                                             context         answer_text  \\\n",
       "0  Balanced t(11;15)(q23;q15) in a TP53+/+ breast...  autosomal dominant   \n",
       "1  Genetic modeling of Li-Fraumeni syndrome in ze...  autosomal dominant   \n",
       "2  Clinical perspective of afatinib in non-small ...   EGFR-mutant NSCLC   \n",
       "3  DOCA sensitive pendrin expression in kidney, h...             thyroid   \n",
       "4  Clinical and molecular characteristics of Pend...             thyroid   \n",
       "\n",
       "   answer_start  answer_end  \n",
       "0           213         231  \n",
       "1           105         123  \n",
       "2          1203        1220  \n",
       "3           419         426  \n",
       "4           705         712  "
      ],
      "text/html": "<div>\n<style scoped>\n    .dataframe tbody tr th:only-of-type {\n        vertical-align: middle;\n    }\n\n    .dataframe tbody tr th {\n        vertical-align: top;\n    }\n\n    .dataframe thead th {\n        text-align: right;\n    }\n</style>\n<table border=\"1\" class=\"dataframe\">\n  <thead>\n    <tr style=\"text-align: right;\">\n      <th></th>\n      <th>question</th>\n      <th>context</th>\n      <th>answer_text</th>\n      <th>answer_start</th>\n      <th>answer_end</th>\n    </tr>\n  </thead>\n  <tbody>\n    <tr>\n      <th>0</th>\n      <td>What is the inheritance pattern of Li–Fraumeni...</td>\n      <td>Balanced t(11;15)(q23;q15) in a TP53+/+ breast...</td>\n      <td>autosomal dominant</td>\n      <td>213</td>\n      <td>231</td>\n    </tr>\n    <tr>\n      <th>1</th>\n      <td>What is the inheritance pattern of Li–Fraumeni...</td>\n      <td>Genetic modeling of Li-Fraumeni syndrome in ze...</td>\n      <td>autosomal dominant</td>\n      <td>105</td>\n      <td>123</td>\n    </tr>\n    <tr>\n      <th>2</th>\n      <td>Which type of lung cancer is afatinib used for?</td>\n      <td>Clinical perspective of afatinib in non-small ...</td>\n      <td>EGFR-mutant NSCLC</td>\n      <td>1203</td>\n      <td>1220</td>\n    </tr>\n    <tr>\n      <th>3</th>\n      <td>Which hormone abnormalities are characteristic...</td>\n      <td>DOCA sensitive pendrin expression in kidney, h...</td>\n      <td>thyroid</td>\n      <td>419</td>\n      <td>426</td>\n    </tr>\n    <tr>\n      <th>4</th>\n      <td>Which hormone abnormalities are characteristic...</td>\n      <td>Clinical and molecular characteristics of Pend...</td>\n      <td>thyroid</td>\n      <td>705</td>\n      <td>712</td>\n    </tr>\n  </tbody>\n</table>\n</div>"
     },
     "metadata": {},
     "execution_count": 5
    }
   ],
   "source": [
    "paths=sorted(list(Path('data/BioASQ').glob(\"BioASQ-train-*\")))\n",
    "ds=list()\n",
    "for path in paths:\n",
    "    ds.append(extract_data(path))\n",
    "df=pd.concat(ds)\n",
    "df.head()"
   ]
  },
  {
   "cell_type": "code",
   "execution_count": 6,
   "metadata": {},
   "outputs": [],
   "source": [
    "tokenizer=T5Tokenizer.from_pretrained('t5-base',cache_dir='cache/t5-base')"
   ]
  },
  {
   "cell_type": "code",
   "execution_count": 7,
   "metadata": {},
   "outputs": [],
   "source": [
    "class BioQADataset(Dataset):\n",
    "\n",
    "    def __init__(self,data,tokenizer,encoder_maxlen=396,decoder_maxlen=32):\n",
    "        self.data=data\n",
    "        self.tokenizer=tokenizer\n",
    "        self.encoder_maxlen=encoder_maxlen\n",
    "        self.decoder_maxlen=decoder_maxlen\n",
    "\n",
    "    def __len__(self):\n",
    "        return len(self.data)\n",
    "\n",
    "    def __getitem__(self,index):\n",
    "        instance=self.data.iloc[index]\n",
    "\n",
    "        source_encoding=tokenizer(instance['question'],instance['context'],max_length=self.encoder_maxlen,padding='max_length',truncation='only_second',return_attention_mask=True,\n",
    "            add_special_tokens=True,return_tensors='pt')\n",
    "        target_encoding=tokenizer(instance['answer_text'],max_length=self.decoder_maxlen,padding='max_length',truncation=True,return_attention_mask=True,\n",
    "            add_special_tokens=True,return_tensors='pt')\n",
    "\n",
    "        labels=target_encoding['input_ids']\n",
    "        labels[labels==0]=-100\n",
    "\n",
    "        return dict(question=instance['question'],context=instance['context'],answer_text=instance['answer_text'],input_ids=source_encoding['input_ids'],\n",
    "            attention_mask=source_encoding['attention_mask'],labels=labels.flatten())"
   ]
  },
  {
   "cell_type": "code",
   "execution_count": 8,
   "metadata": {},
   "outputs": [],
   "source": [
    "train_df,val_df=train_test_split(df,test_size=0.05)"
   ]
  },
  {
   "cell_type": "code",
   "execution_count": 9,
   "metadata": {},
   "outputs": [],
   "source": [
    "class BioQADataModule(pl.LightningDataModule):\n",
    "\n",
    "    def __init__(self,train_df,test_df,tokenizer,encoder_maxlen=396,decoder_maxlen=32,batch_size=8):\n",
    "        super().__init__()\n",
    "        self.batch_size=batch_size\n",
    "        self.train_df=train_df\n",
    "        self.test_df=test_df\n",
    "        self.tokenizer=tokenizer\n",
    "        self.encoder_maxlen=encoder_maxlen\n",
    "        self.decoder_maxlen=decoder_maxlen\n",
    "\n",
    "    def setup(self):\n",
    "        self.train_ds=BioQADataset(self.train_df,self.tokenizer,self.encoder_maxlen,self.decoder_maxlen)\n",
    "        self.test_ds=BioQADataset(self.test_df,self.tokenizer,self.encoder_maxlen,self.decoder_maxlen)\n",
    "\n",
    "    def train_dataloader(self):\n",
    "        return DataLoader(train_ds,batch_size=8,shuffle=True,num_workers=4)\n",
    "    \n",
    "    def val_dataloader(self):\n",
    "        return DataLoader(test_ds,batch_size=1,shuffle=True,num_workers=4)\n",
    "    \n",
    "    def test_dataloader(self):\n",
    "        return DataLoader(test_ds,batch_size=1,shuffle=True,num_workers=4)"
   ]
  },
  {
   "cell_type": "code",
   "execution_count": 10,
   "metadata": {},
   "outputs": [],
   "source": [
    "BATCH_SIZE=2\n",
    "EPOCHS=6\n",
    "\n",
    "data_module=BioQADataModule(train_df,val_df,tokenizer,batch_size=BATCH_SIZE)\n",
    "data_module.setup()"
   ]
  },
  {
   "cell_type": "code",
   "execution_count": 11,
   "metadata": {},
   "outputs": [],
   "source": [
    "model=T5ForConditionalGeneration.from_pretrained('t5-base',cache_dir='model_cache/t5-base',return_dict=True)"
   ]
  },
  {
   "source": [
    "# Test"
   ],
   "cell_type": "markdown",
   "metadata": {}
  },
  {
   "cell_type": "code",
   "execution_count": 14,
   "metadata": {},
   "outputs": [
    {
     "output_type": "execute_result",
     "data": {
      "text/plain": [
       "'Ich bin ein Junge.'"
      ]
     },
     "metadata": {},
     "execution_count": 14
    }
   ],
   "source": [
    "input_ids=tokenizer(\"translate English to German: I am a boy.\",return_tensors='pt').input_ids\n",
    "generated_ids=model.generate(input_ids)\n",
    "preds=[tokenizer.decode(id,skip_special_tokens=True,clean_up_tokenization_spaces=True) for id in generated_ids]\n",
    "translated_text=\"\".join(preds)\n",
    "translated_text"
   ]
  },
  {
   "cell_type": "code",
   "execution_count": 15,
   "metadata": {},
   "outputs": [
    {
     "output_type": "execute_result",
     "data": {
      "text/plain": [
       "'sunflowers were domesticated 3000–5000 years ago by Native Americans. they were'"
      ]
     },
     "metadata": {},
     "execution_count": 15
    }
   ],
   "source": [
    "text=\"\"\"\n",
    "Sunflowers are thought to have been domesticated 3000–5000 years ago by Native Americans who would use them primarily as a source for edible seeds. They were then introduced to Europe in the early 16th century and made their way to Russia. In Russia, where oilseed cultivators were located, these flowers were developed and grown on an industrial scale. Russia then reintroduced this oilseed cultivation process to North America in the mid-20th century; North America began their commercial era of sunflower production and breeding.[12] New breeds of the Helianthus spp. began to become more prominent in new geographical areas.\n",
    "\n",
    "This species' geographical history accounts for its evolutionary history, with its levels of genetic variation across its gene pool increasing as new hybrids are created both for commercial use and in the wild. Subsequent to this, sunflower species are also experiencing the bottle neck effect in their gene pool as a result of selective breeding for industrial use.[12]\n",
    "\"\"\"\n",
    "text='summarize: '+ text\n",
    "input_ids=tokenizer(text,return_tensors='pt').input_ids\n",
    "generated_ids=model.generate(input_ids)\n",
    "preds=[tokenizer.decode(id,skip_special_tokens=True,clean_up_tokenization_spaces=True) for id in generated_ids]\n",
    "summarized_text=\"\".join(preds)\n",
    "summarized_text"
   ]
  },
  {
   "cell_type": "code",
   "execution_count": null,
   "metadata": {},
   "outputs": [],
   "source": []
  }
 ]
}